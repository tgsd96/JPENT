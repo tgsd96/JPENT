{
 "cells": [
  {
   "cell_type": "code",
   "execution_count": 33,
   "metadata": {},
   "outputs": [],
   "source": [
    "from main import MasterList,PurchaseTable,db,storeWithPandas"
   ]
  },
  {
   "cell_type": "code",
   "execution_count": 2,
   "metadata": {},
   "outputs": [],
   "source": [
    "import pandas as pd"
   ]
  },
  {
   "cell_type": "code",
   "execution_count": 3,
   "metadata": {},
   "outputs": [],
   "source": [
    "sheet = pd.read_excel('godrej.xlsx',skiprows=2)"
   ]
  },
  {
   "cell_type": "code",
   "execution_count": 4,
   "metadata": {},
   "outputs": [],
   "source": [
    "sheet = sheet.fillna('')"
   ]
  },
  {
   "cell_type": "code",
   "execution_count": 5,
   "metadata": {},
   "outputs": [
    {
     "data": {
      "text/html": [
       "<div>\n",
       "<style scoped>\n",
       "    .dataframe tbody tr th:only-of-type {\n",
       "        vertical-align: middle;\n",
       "    }\n",
       "\n",
       "    .dataframe tbody tr th {\n",
       "        vertical-align: top;\n",
       "    }\n",
       "\n",
       "    .dataframe thead th {\n",
       "        text-align: right;\n",
       "    }\n",
       "</style>\n",
       "<table border=\"1\" class=\"dataframe\">\n",
       "  <thead>\n",
       "    <tr style=\"text-align: right;\">\n",
       "      <th></th>\n",
       "      <th>Bill Number</th>\n",
       "      <th>Bill Mode</th>\n",
       "      <th>Bill Date</th>\n",
       "      <th>DSR Code</th>\n",
       "      <th>DSR Name</th>\n",
       "      <th>Route Code</th>\n",
       "      <th>Route Name</th>\n",
       "      <th>Retailer Code</th>\n",
       "      <th>Retailer Name</th>\n",
       "      <th>Net Amount</th>\n",
       "      <th>Bill Status</th>\n",
       "    </tr>\n",
       "  </thead>\n",
       "  <tbody>\n",
       "    <tr>\n",
       "      <th>0</th>\n",
       "      <td>G099991800685</td>\n",
       "      <td>Credit</td>\n",
       "      <td>2018-05-28</td>\n",
       "      <td>SM01</td>\n",
       "      <td>MANOJ KUMAR</td>\n",
       "      <td>MIG004316</td>\n",
       "      <td>AICHER</td>\n",
       "      <td>G06</td>\n",
       "      <td>CALYFOX RETAILS PRIVATE LIMITED</td>\n",
       "      <td>4153</td>\n",
       "      <td>Delivered</td>\n",
       "    </tr>\n",
       "    <tr>\n",
       "      <th>1</th>\n",
       "      <td>G099991800918</td>\n",
       "      <td>Credit</td>\n",
       "      <td>2018-05-31</td>\n",
       "      <td>SM01</td>\n",
       "      <td>MANOJ KUMAR</td>\n",
       "      <td>MIG004317</td>\n",
       "      <td>ALPHA I AND II</td>\n",
       "      <td>1</td>\n",
       "      <td>KALIKA PROVISION STORE</td>\n",
       "      <td>5517</td>\n",
       "      <td>Delivered</td>\n",
       "    </tr>\n",
       "    <tr>\n",
       "      <th>2</th>\n",
       "      <td>G099991800919</td>\n",
       "      <td>Credit</td>\n",
       "      <td>2018-05-31</td>\n",
       "      <td>SM01</td>\n",
       "      <td>MANOJ KUMAR</td>\n",
       "      <td>MIG004317</td>\n",
       "      <td>ALPHA I AND II</td>\n",
       "      <td>167</td>\n",
       "      <td>KUMAR PROVISION STORE</td>\n",
       "      <td>2243</td>\n",
       "      <td>Delivered</td>\n",
       "    </tr>\n",
       "    <tr>\n",
       "      <th>3</th>\n",
       "      <td>G099991800920</td>\n",
       "      <td>Credit</td>\n",
       "      <td>2018-05-31</td>\n",
       "      <td>SM01</td>\n",
       "      <td>MANOJ KUMAR</td>\n",
       "      <td>MIG004317</td>\n",
       "      <td>ALPHA I AND II</td>\n",
       "      <td>100</td>\n",
       "      <td>TANEJA COSMETIC &amp; GIFT SHOP</td>\n",
       "      <td>715</td>\n",
       "      <td>Delivered</td>\n",
       "    </tr>\n",
       "    <tr>\n",
       "      <th>4</th>\n",
       "      <td>G099991800921</td>\n",
       "      <td>Credit</td>\n",
       "      <td>2018-05-31</td>\n",
       "      <td>SM01</td>\n",
       "      <td>MANOJ KUMAR</td>\n",
       "      <td>MIG004317</td>\n",
       "      <td>ALPHA I AND II</td>\n",
       "      <td>3</td>\n",
       "      <td>AGGARWL KIRANA &amp; GENERAL STORE</td>\n",
       "      <td>27168</td>\n",
       "      <td>Delivered</td>\n",
       "    </tr>\n",
       "  </tbody>\n",
       "</table>\n",
       "</div>"
      ],
      "text/plain": [
       "     Bill Number Bill Mode  Bill Date DSR Code     DSR Name Route Code  \\\n",
       "0  G099991800685    Credit 2018-05-28     SM01  MANOJ KUMAR  MIG004316   \n",
       "1  G099991800918    Credit 2018-05-31     SM01  MANOJ KUMAR  MIG004317   \n",
       "2  G099991800919    Credit 2018-05-31     SM01  MANOJ KUMAR  MIG004317   \n",
       "3  G099991800920    Credit 2018-05-31     SM01  MANOJ KUMAR  MIG004317   \n",
       "4  G099991800921    Credit 2018-05-31     SM01  MANOJ KUMAR  MIG004317   \n",
       "\n",
       "       Route Name Retailer Code                    Retailer Name  Net Amount  \\\n",
       "0          AICHER           G06  CALYFOX RETAILS PRIVATE LIMITED        4153   \n",
       "1  ALPHA I AND II             1           KALIKA PROVISION STORE        5517   \n",
       "2  ALPHA I AND II           167            KUMAR PROVISION STORE        2243   \n",
       "3  ALPHA I AND II           100      TANEJA COSMETIC & GIFT SHOP         715   \n",
       "4  ALPHA I AND II             3   AGGARWL KIRANA & GENERAL STORE       27168   \n",
       "\n",
       "  Bill Status  \n",
       "0   Delivered  \n",
       "1   Delivered  \n",
       "2   Delivered  \n",
       "3   Delivered  \n",
       "4   Delivered  "
      ]
     },
     "execution_count": 5,
     "metadata": {},
     "output_type": "execute_result"
    }
   ],
   "source": [
    "sheet.head()"
   ]
  },
  {
   "cell_type": "code",
   "execution_count": 6,
   "metadata": {},
   "outputs": [],
   "source": [
    "Purchases=[]"
   ]
  },
  {
   "cell_type": "code",
   "execution_count": 7,
   "metadata": {},
   "outputs": [],
   "source": [
    "for row in sheet.itertuples():\n",
    "    purchases = {}\n",
    "    purchases['name'] = row[9]\n",
    "    purchases['billvalue'] = row[10]\n",
    "    Purchases.append(purchases)"
   ]
  },
  {
   "cell_type": "code",
   "execution_count": 8,
   "metadata": {},
   "outputs": [
    {
     "name": "stdout",
     "output_type": "stream",
     "text": [
      "{'name': u'CALYFOX RETAILS PRIVATE LIMITED', 'billvalue': 4153}\n",
      "{'name': u'KALIKA PROVISION STORE', 'billvalue': 5517}\n",
      "{'name': u'KUMAR PROVISION STORE', 'billvalue': 2243}\n",
      "{'name': u'TANEJA COSMETIC & GIFT SHOP', 'billvalue': 715}\n",
      "{'name': u'AGGARWL KIRANA & GENERAL STORE', 'billvalue': 27168}\n",
      "{'name': u'APNA STORE', 'billvalue': 1389}\n",
      "{'name': u'HARIOM DEPARTMENTAL STORE', 'billvalue': 1393}\n",
      "{'name': u'RATAN - MEDICOSE PVT. LTD.', 'billvalue': 1483}\n",
      "{'name': u'Every Day Shopping Mart Pvt. Ltd.', 'billvalue': 8353}\n",
      "{'name': u'MED POINT PHARMACY & COSMATICS', 'billvalue': 1471}\n",
      "{'name': u'9 TO 9 MERCATO', 'billvalue': 5356}\n",
      "{'name': u'MITTAL GENERAL  STORE', 'billvalue': 6644}\n",
      "{'name': u'Soni Supermart', 'billvalue': 6498}\n",
      "{'name': u'MAHENDRA TRADERS', 'billvalue': 184449}\n",
      "{'name': u'SHOPPER  POINT', 'billvalue': 3047}\n",
      "{'name': u'MITTAL & SONS', 'billvalue': 4212}\n",
      "{'name': u'MAHAVIRA GENERAL STORE', 'billvalue': 6433}\n",
      "{'name': u'OM RETAIL MART', 'billvalue': 19019}\n",
      "{'name': u'MITTAL PROVISION STORE', 'billvalue': 2957}\n",
      "{'name': u'JAI BHAWANI KIRANA STORE', 'billvalue': 1569}\n",
      "{'name': u'SHRI SHYAM KIRANA STORE', 'billvalue': 2208}\n",
      "{'name': u'LUXMI SUPER GENERAL STORE', 'billvalue': 3588}\n",
      "{'name': u'BAJRANG SHOPPING CENTRE', 'billvalue': 4812}\n",
      "{'name': u'VIJAY MEDICOS', 'billvalue': 919}\n",
      "{'name': u'LONG LIFE MEDICOSE', 'billvalue': 644}\n",
      "{'name': u'GOYAL SUPERMART', 'billvalue': 1142}\n",
      "{'name': u'AGGARAWAL DEPARTMENTAL STORE', 'billvalue': 25089}\n",
      "{'name': u'SHIV SHAKTI GENERAL STORE', 'billvalue': 1527}\n",
      "{'name': u'MANGALA ARYA RETAIL AND ECOMMERCE', 'billvalue': 1002}\n"
     ]
    }
   ],
   "source": [
    "for x in Purchases:\n",
    "    print(x)"
   ]
  },
  {
   "cell_type": "code",
   "execution_count": 16,
   "metadata": {},
   "outputs": [],
   "source": [
    "for x in Purchases:\n",
    "            custid = -1\n",
    "            getcustid = MasterList.query.filter_by(name=x['name']).first()\n",
    "            if getcustid is not None:\n",
    "                custid = getcustid.cust_id\n",
    "            else:\n",
    "#                 error_count += 1\n",
    "                continue\n",
    "            purchases = PurchaseTable(\n",
    "                custid = custid,\n",
    "                interface_code = 'GOD',\n",
    "                billvalue = x['billvalue'],\n",
    "                # billno = currentPurchase['billno'],\n",
    "                date = '2018-06-01'\n",
    "            )\n",
    "            db.session.add(purchases)\n",
    "#             success_count += 1\n",
    "            db.session.commit()"
   ]
  },
  {
   "cell_type": "code",
   "execution_count": 19,
   "metadata": {},
   "outputs": [],
   "source": [
    "conf = {'company':'god', 'name': 8, 'billvalue':9,'date':'2018-06-01'}"
   ]
  },
  {
   "cell_type": "code",
   "execution_count": 34,
   "metadata": {},
   "outputs": [
    {
     "ename": "TypeError",
     "evalue": "'list' object is not callable",
     "output_type": "error",
     "traceback": [
      "\u001b[0;31m---------------------------------------------------------------------------\u001b[0m",
      "\u001b[0;31mTypeError\u001b[0m                                 Traceback (most recent call last)",
      "\u001b[0;32m<ipython-input-34-e693b39fa5cc>\u001b[0m in \u001b[0;36m<module>\u001b[0;34m()\u001b[0m\n\u001b[0;32m----> 1\u001b[0;31m \u001b[0mval\u001b[0m \u001b[0;34m=\u001b[0m \u001b[0mstoreWithPandas\u001b[0m\u001b[0;34m(\u001b[0m\u001b[0;34m'godrej.xlsx'\u001b[0m\u001b[0;34m,\u001b[0m\u001b[0mconf\u001b[0m\u001b[0;34m)\u001b[0m\u001b[0;34m\u001b[0m\u001b[0m\n\u001b[0m",
      "\u001b[0;32m/Users/tushargarg/Desktop/JPENT/main.py\u001b[0m in \u001b[0;36mstoreWithPandas\u001b[0;34m(filename, conf)\u001b[0m\n\u001b[1;32m    384\u001b[0m         \u001b[0;31m#     # )\u001b[0m\u001b[0;34m\u001b[0m\u001b[0;34m\u001b[0m\u001b[0m\n\u001b[1;32m    385\u001b[0m         \u001b[0;31m#     # db.session.add(purchases)\u001b[0m\u001b[0;34m\u001b[0m\u001b[0;34m\u001b[0m\u001b[0m\n\u001b[0;32m--> 386\u001b[0;31m         \u001b[0;31m#     # success_count += 1\u001b[0m\u001b[0;34m\u001b[0m\u001b[0;34m\u001b[0m\u001b[0m\n\u001b[0m\u001b[1;32m    387\u001b[0m         \u001b[0;31m#     # db.session.commit()\u001b[0m\u001b[0;34m\u001b[0m\u001b[0;34m\u001b[0m\u001b[0m\n\u001b[1;32m    388\u001b[0m         \u001b[0;31m# return (success_count,error_count)\u001b[0m\u001b[0;34m\u001b[0m\u001b[0;34m\u001b[0m\u001b[0m\n",
      "\u001b[0;31mTypeError\u001b[0m: 'list' object is not callable"
     ]
    }
   ],
   "source": [
    "val = storeWithPandas('godrej.xlsx',conf)"
   ]
  },
  {
   "cell_type": "code",
   "execution_count": 35,
   "metadata": {},
   "outputs": [],
   "source": [
    "from main import storeWithPandas"
   ]
  },
  {
   "cell_type": "code",
   "execution_count": 36,
   "metadata": {},
   "outputs": [
    {
     "ename": "TypeError",
     "evalue": "'list' object is not callable",
     "output_type": "error",
     "traceback": [
      "\u001b[0;31m---------------------------------------------------------------------------\u001b[0m",
      "\u001b[0;31mTypeError\u001b[0m                                 Traceback (most recent call last)",
      "\u001b[0;32m<ipython-input-36-56022aefbb78>\u001b[0m in \u001b[0;36m<module>\u001b[0;34m()\u001b[0m\n\u001b[0;32m----> 1\u001b[0;31m \u001b[0mstoreWithPandas\u001b[0m\u001b[0;34m(\u001b[0m\u001b[0;34m'godrej.xlsx'\u001b[0m\u001b[0;34m,\u001b[0m\u001b[0mconf\u001b[0m\u001b[0;34m)\u001b[0m\u001b[0;34m\u001b[0m\u001b[0m\n\u001b[0m",
      "\u001b[0;32m/Users/tushargarg/Desktop/JPENT/main.py\u001b[0m in \u001b[0;36mstoreWithPandas\u001b[0;34m(filename, conf)\u001b[0m\n\u001b[1;32m    384\u001b[0m         \u001b[0;31m#     # )\u001b[0m\u001b[0;34m\u001b[0m\u001b[0;34m\u001b[0m\u001b[0m\n\u001b[1;32m    385\u001b[0m         \u001b[0;31m#     # db.session.add(purchases)\u001b[0m\u001b[0;34m\u001b[0m\u001b[0;34m\u001b[0m\u001b[0m\n\u001b[0;32m--> 386\u001b[0;31m         \u001b[0;31m#     # success_count += 1\u001b[0m\u001b[0;34m\u001b[0m\u001b[0;34m\u001b[0m\u001b[0m\n\u001b[0m\u001b[1;32m    387\u001b[0m         \u001b[0;31m#     # db.session.commit()\u001b[0m\u001b[0;34m\u001b[0m\u001b[0;34m\u001b[0m\u001b[0m\n\u001b[1;32m    388\u001b[0m         \u001b[0;31m# return (success_count,error_count)\u001b[0m\u001b[0;34m\u001b[0m\u001b[0;34m\u001b[0m\u001b[0m\n",
      "\u001b[0;31mTypeError\u001b[0m: 'list' object is not callable"
     ]
    }
   ],
   "source": []
  },
  {
   "cell_type": "code",
   "execution_count": 43,
   "metadata": {},
   "outputs": [],
   "source": [
    "def storeWithPandas(filename,conf):\n",
    "    success_count = 0\n",
    "    error_count = 0\n",
    "    sheet = pd.read_excel(filename,skiprows=2)\n",
    "    sheet = sheet.fillna('')\n",
    "    Purch = []\n",
    "    company = conf[\"company\"]\n",
    "    date = conf[\"date\"]\n",
    "    for row in sheet.itertuples():\n",
    "        purchases= {}\n",
    "        purchases['name']=row[conf[\"name\"]+1]\n",
    "        purchases['billvalue']=row[conf[\"billvalue\"]+1]\n",
    "        Purch.append(purchases)\n",
    "    for x in Purch:\n",
    "            print(x)\n",
    "            custid = -1\n",
    "            getcustid = MasterList.query.filter_by(name=x['name']).first()\n",
    "            if getcustid is not None:\n",
    "                custid = getcustid.cust_id\n",
    "            else:\n",
    "                error_count += 1\n",
    "                newError = ErrorPurchases(\n",
    "                    name = x['name'],\n",
    "                    interface_code = company.upper(),\n",
    "                    billvalue = x['billvalue']\n",
    "                ) \n",
    "                db.session.add(newError)\n",
    "                db.session.commit()\n",
    "                continue\n",
    "            purchases = PurchaseTable(\n",
    "                custid = custid,\n",
    "                interface_code = company.upper(),\n",
    "                billvalue = x['billvalue']\n",
    "            )\n",
    "            db.session.add(purchases)\n",
    "            success_count += 1\n",
    "            db.session.commit()\n",
    "    return (success_count,error_count)"
   ]
  },
  {
   "cell_type": "code",
   "execution_count": 45,
   "metadata": {},
   "outputs": [
    {
     "name": "stdout",
     "output_type": "stream",
     "text": [
      "{'name': u'CALYFOX RETAILS PRIVATE LIMITED', 'billvalue': 4153}\n",
      "{'name': u'KALIKA PROVISION STORE', 'billvalue': 5517}\n",
      "{'name': u'KUMAR PROVISION STORE', 'billvalue': 2243}\n",
      "{'name': u'TANEJA COSMETIC & GIFT SHOP', 'billvalue': 715}\n",
      "{'name': u'AGGARWL KIRANA & GENERAL STORE', 'billvalue': 27168}\n",
      "{'name': u'APNA STORE', 'billvalue': 1389}\n",
      "{'name': u'HARIOM DEPARTMENTAL STORE', 'billvalue': 1393}\n",
      "{'name': u'RATAN - MEDICOSE PVT. LTD.', 'billvalue': 1483}\n",
      "{'name': u'Every Day Shopping Mart Pvt. Ltd.', 'billvalue': 8353}\n",
      "{'name': u'MED POINT PHARMACY & COSMATICS', 'billvalue': 1471}\n",
      "{'name': u'9 TO 9 MERCATO', 'billvalue': 5356}\n",
      "{'name': u'MITTAL GENERAL  STORE', 'billvalue': 6644}\n",
      "{'name': u'Soni Supermart', 'billvalue': 6498}\n",
      "{'name': u'MAHENDRA TRADERS', 'billvalue': 184449}\n",
      "{'name': u'SHOPPER  POINT', 'billvalue': 3047}\n",
      "{'name': u'MITTAL & SONS', 'billvalue': 4212}\n",
      "{'name': u'MAHAVIRA GENERAL STORE', 'billvalue': 6433}\n",
      "{'name': u'OM RETAIL MART', 'billvalue': 19019}\n",
      "{'name': u'MITTAL PROVISION STORE', 'billvalue': 2957}\n",
      "{'name': u'JAI BHAWANI KIRANA STORE', 'billvalue': 1569}\n",
      "{'name': u'SHRI SHYAM KIRANA STORE', 'billvalue': 2208}\n",
      "{'name': u'LUXMI SUPER GENERAL STORE', 'billvalue': 3588}\n",
      "{'name': u'BAJRANG SHOPPING CENTRE', 'billvalue': 4812}\n",
      "{'name': u'VIJAY MEDICOS', 'billvalue': 919}\n",
      "{'name': u'LONG LIFE MEDICOSE', 'billvalue': 644}\n",
      "{'name': u'GOYAL SUPERMART', 'billvalue': 1142}\n",
      "{'name': u'AGGARAWAL DEPARTMENTAL STORE', 'billvalue': 25089}\n",
      "{'name': u'SHIV SHAKTI GENERAL STORE', 'billvalue': 1527}\n",
      "{'name': u'MANGALA ARYA RETAIL AND ECOMMERCE', 'billvalue': 1002}\n"
     ]
    }
   ],
   "source": [
    "val = storeWithPandas('godrej.xlsx',conf)"
   ]
  },
  {
   "cell_type": "code",
   "execution_count": 46,
   "metadata": {},
   "outputs": [
    {
     "data": {
      "text/plain": [
       "(29, 0)"
      ]
     },
     "execution_count": 46,
     "metadata": {},
     "output_type": "execute_result"
    }
   ],
   "source": [
    "val"
   ]
  },
  {
   "cell_type": "code",
   "execution_count": null,
   "metadata": {},
   "outputs": [],
   "source": []
  }
 ],
 "metadata": {
  "kernelspec": {
   "display_name": "Python 2",
   "language": "python",
   "name": "python2"
  },
  "language_info": {
   "codemirror_mode": {
    "name": "ipython",
    "version": 2
   },
   "file_extension": ".py",
   "mimetype": "text/x-python",
   "name": "python",
   "nbconvert_exporter": "python",
   "pygments_lexer": "ipython2",
   "version": "2.7.13"
  }
 },
 "nbformat": 4,
 "nbformat_minor": 2
}
