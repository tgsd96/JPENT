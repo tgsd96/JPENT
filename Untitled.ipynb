{
 "cells": [
  {
   "cell_type": "code",
   "execution_count": 1,
   "metadata": {},
   "outputs": [],
   "source": [
    "import pandas as pd"
   ]
  },
  {
   "cell_type": "code",
   "execution_count": 11,
   "metadata": {},
   "outputs": [],
   "source": [
    "excel = pd.read_excel('godrej.xlsx', skiprows=2)"
   ]
  },
  {
   "cell_type": "code",
   "execution_count": 10,
   "metadata": {},
   "outputs": [
    {
     "data": {
      "text/plain": [
       "Timestamp('2018-05-31 00:00:00')"
      ]
     },
     "execution_count": 10,
     "metadata": {},
     "output_type": "execute_result"
    }
   ],
   "source": [
    "excel.iloc[1, 2]"
   ]
  },
  {
   "cell_type": "code",
   "execution_count": 13,
   "metadata": {},
   "outputs": [
    {
     "data": {
      "text/plain": [
       "Index(['Bill Number', 'Bill Mode', 'Bill Date', 'DSR Code', 'DSR Name',\n",
       "       'Route Code', 'Route Name', 'Retailer Code', 'Retailer Name',\n",
       "       'Net Amount', 'Bill Status'],\n",
       "      dtype='object')"
      ]
     },
     "execution_count": 13,
     "metadata": {},
     "output_type": "execute_result"
    }
   ],
   "source": [
    "excel.keys()"
   ]
  },
  {
   "cell_type": "code",
   "execution_count": 15,
   "metadata": {},
   "outputs": [
    {
     "data": {
      "text/plain": [
       "\u001b[0;31mType:\u001b[0m        property\n",
       "\u001b[0;31mString form:\u001b[0m <property object at 0x1122e4ae8>\n",
       "\u001b[0;31mDocstring:\u001b[0m  \n",
       "Purely integer-location based indexing for selection by position.\n",
       "\n",
       "``.iloc[]`` is primarily integer position based (from ``0`` to\n",
       "``length-1`` of the axis), but may also be used with a boolean\n",
       "array.\n",
       "\n",
       "Allowed inputs are:\n",
       "\n",
       "- An integer, e.g. ``5``.\n",
       "- A list or array of integers, e.g. ``[4, 3, 0]``.\n",
       "- A slice object with ints, e.g. ``1:7``.\n",
       "- A boolean array.\n",
       "- A ``callable`` function with one argument (the calling Series, DataFrame\n",
       "  or Panel) and that returns valid output for indexing (one of the above)\n",
       "\n",
       "``.iloc`` will raise ``IndexError`` if a requested indexer is\n",
       "out-of-bounds, except *slice* indexers which allow out-of-bounds\n",
       "indexing (this conforms with python/numpy *slice* semantics).\n",
       "\n",
       "See more at :ref:`Selection by Position <indexing.integer>`\n"
      ]
     },
     "metadata": {},
     "output_type": "display_data"
    }
   ],
   "source": [
    "excel.iloc?"
   ]
  },
  {
   "cell_type": "code",
   "execution_count": 18,
   "metadata": {},
   "outputs": [],
   "source": [
    "excel = excel.iloc[:,[-3,-2]]"
   ]
  },
  {
   "cell_type": "code",
   "execution_count": 22,
   "metadata": {},
   "outputs": [
    {
     "data": {
      "text/html": [
       "<div>\n",
       "<style scoped>\n",
       "    .dataframe tbody tr th:only-of-type {\n",
       "        vertical-align: middle;\n",
       "    }\n",
       "\n",
       "    .dataframe tbody tr th {\n",
       "        vertical-align: top;\n",
       "    }\n",
       "\n",
       "    .dataframe thead th {\n",
       "        text-align: right;\n",
       "    }\n",
       "</style>\n",
       "<table border=\"1\" class=\"dataframe\">\n",
       "  <thead>\n",
       "    <tr style=\"text-align: right;\">\n",
       "      <th></th>\n",
       "      <th>Retailer Name</th>\n",
       "      <th>Net Amount</th>\n",
       "    </tr>\n",
       "  </thead>\n",
       "  <tbody>\n",
       "    <tr>\n",
       "      <th>0</th>\n",
       "      <td>CALYFOX RETAILS PRIVATE LIMITED</td>\n",
       "      <td>4153</td>\n",
       "    </tr>\n",
       "    <tr>\n",
       "      <th>1</th>\n",
       "      <td>KALIKA PROVISION STORE</td>\n",
       "      <td>5517</td>\n",
       "    </tr>\n",
       "    <tr>\n",
       "      <th>2</th>\n",
       "      <td>KUMAR PROVISION STORE</td>\n",
       "      <td>2243</td>\n",
       "    </tr>\n",
       "    <tr>\n",
       "      <th>3</th>\n",
       "      <td>TANEJA COSMETIC &amp; GIFT SHOP</td>\n",
       "      <td>715</td>\n",
       "    </tr>\n",
       "    <tr>\n",
       "      <th>4</th>\n",
       "      <td>AGGARWL KIRANA &amp; GENERAL STORE</td>\n",
       "      <td>27168</td>\n",
       "    </tr>\n",
       "    <tr>\n",
       "      <th>5</th>\n",
       "      <td>APNA STORE</td>\n",
       "      <td>1389</td>\n",
       "    </tr>\n",
       "    <tr>\n",
       "      <th>6</th>\n",
       "      <td>HARIOM DEPARTMENTAL STORE</td>\n",
       "      <td>1393</td>\n",
       "    </tr>\n",
       "    <tr>\n",
       "      <th>7</th>\n",
       "      <td>RATAN - MEDICOSE PVT. LTD.</td>\n",
       "      <td>1483</td>\n",
       "    </tr>\n",
       "    <tr>\n",
       "      <th>8</th>\n",
       "      <td>Every Day Shopping Mart Pvt. Ltd.</td>\n",
       "      <td>8353</td>\n",
       "    </tr>\n",
       "    <tr>\n",
       "      <th>9</th>\n",
       "      <td>MED POINT PHARMACY &amp; COSMATICS</td>\n",
       "      <td>1471</td>\n",
       "    </tr>\n",
       "    <tr>\n",
       "      <th>10</th>\n",
       "      <td>9 TO 9 MERCATO</td>\n",
       "      <td>5356</td>\n",
       "    </tr>\n",
       "    <tr>\n",
       "      <th>11</th>\n",
       "      <td>MITTAL GENERAL  STORE</td>\n",
       "      <td>6644</td>\n",
       "    </tr>\n",
       "    <tr>\n",
       "      <th>12</th>\n",
       "      <td>Soni Supermart</td>\n",
       "      <td>6498</td>\n",
       "    </tr>\n",
       "    <tr>\n",
       "      <th>13</th>\n",
       "      <td>MAHENDRA TRADERS</td>\n",
       "      <td>184449</td>\n",
       "    </tr>\n",
       "    <tr>\n",
       "      <th>14</th>\n",
       "      <td>SHOPPER  POINT</td>\n",
       "      <td>3047</td>\n",
       "    </tr>\n",
       "    <tr>\n",
       "      <th>15</th>\n",
       "      <td>MITTAL &amp; SONS</td>\n",
       "      <td>4212</td>\n",
       "    </tr>\n",
       "    <tr>\n",
       "      <th>16</th>\n",
       "      <td>MAHAVIRA GENERAL STORE</td>\n",
       "      <td>6433</td>\n",
       "    </tr>\n",
       "    <tr>\n",
       "      <th>17</th>\n",
       "      <td>OM RETAIL MART</td>\n",
       "      <td>19019</td>\n",
       "    </tr>\n",
       "    <tr>\n",
       "      <th>18</th>\n",
       "      <td>MITTAL PROVISION STORE</td>\n",
       "      <td>2957</td>\n",
       "    </tr>\n",
       "    <tr>\n",
       "      <th>19</th>\n",
       "      <td>JAI BHAWANI KIRANA STORE</td>\n",
       "      <td>1569</td>\n",
       "    </tr>\n",
       "    <tr>\n",
       "      <th>20</th>\n",
       "      <td>SHRI SHYAM KIRANA STORE</td>\n",
       "      <td>2208</td>\n",
       "    </tr>\n",
       "    <tr>\n",
       "      <th>21</th>\n",
       "      <td>LUXMI SUPER GENERAL STORE</td>\n",
       "      <td>3588</td>\n",
       "    </tr>\n",
       "    <tr>\n",
       "      <th>22</th>\n",
       "      <td>BAJRANG SHOPPING CENTRE</td>\n",
       "      <td>4812</td>\n",
       "    </tr>\n",
       "    <tr>\n",
       "      <th>23</th>\n",
       "      <td>VIJAY MEDICOS</td>\n",
       "      <td>919</td>\n",
       "    </tr>\n",
       "    <tr>\n",
       "      <th>24</th>\n",
       "      <td>LONG LIFE MEDICOSE</td>\n",
       "      <td>644</td>\n",
       "    </tr>\n",
       "    <tr>\n",
       "      <th>25</th>\n",
       "      <td>GOYAL SUPERMART</td>\n",
       "      <td>1142</td>\n",
       "    </tr>\n",
       "    <tr>\n",
       "      <th>26</th>\n",
       "      <td>AGGARAWAL DEPARTMENTAL STORE</td>\n",
       "      <td>25089</td>\n",
       "    </tr>\n",
       "    <tr>\n",
       "      <th>27</th>\n",
       "      <td>SHIV SHAKTI GENERAL STORE</td>\n",
       "      <td>1527</td>\n",
       "    </tr>\n",
       "    <tr>\n",
       "      <th>28</th>\n",
       "      <td>MANGALA ARYA RETAIL AND ECOMMERCE</td>\n",
       "      <td>1002</td>\n",
       "    </tr>\n",
       "  </tbody>\n",
       "</table>\n",
       "</div>"
      ],
      "text/plain": [
       "                        Retailer Name  Net Amount\n",
       "0     CALYFOX RETAILS PRIVATE LIMITED        4153\n",
       "1              KALIKA PROVISION STORE        5517\n",
       "2               KUMAR PROVISION STORE        2243\n",
       "3         TANEJA COSMETIC & GIFT SHOP         715\n",
       "4      AGGARWL KIRANA & GENERAL STORE       27168\n",
       "5                          APNA STORE        1389\n",
       "6           HARIOM DEPARTMENTAL STORE        1393\n",
       "7          RATAN - MEDICOSE PVT. LTD.        1483\n",
       "8   Every Day Shopping Mart Pvt. Ltd.        8353\n",
       "9      MED POINT PHARMACY & COSMATICS        1471\n",
       "10                     9 TO 9 MERCATO        5356\n",
       "11              MITTAL GENERAL  STORE        6644\n",
       "12                     Soni Supermart        6498\n",
       "13                   MAHENDRA TRADERS      184449\n",
       "14                     SHOPPER  POINT        3047\n",
       "15                      MITTAL & SONS        4212\n",
       "16             MAHAVIRA GENERAL STORE        6433\n",
       "17                     OM RETAIL MART       19019\n",
       "18             MITTAL PROVISION STORE        2957\n",
       "19           JAI BHAWANI KIRANA STORE        1569\n",
       "20            SHRI SHYAM KIRANA STORE        2208\n",
       "21          LUXMI SUPER GENERAL STORE        3588\n",
       "22            BAJRANG SHOPPING CENTRE        4812\n",
       "23                      VIJAY MEDICOS         919\n",
       "24                 LONG LIFE MEDICOSE         644\n",
       "25                    GOYAL SUPERMART        1142\n",
       "26       AGGARAWAL DEPARTMENTAL STORE       25089\n",
       "27          SHIV SHAKTI GENERAL STORE        1527\n",
       "28  MANGALA ARYA RETAIL AND ECOMMERCE        1002"
      ]
     },
     "execution_count": 22,
     "metadata": {},
     "output_type": "execute_result"
    }
   ],
   "source": [
    "excel"
   ]
  },
  {
   "cell_type": "code",
   "execution_count": 28,
   "metadata": {},
   "outputs": [
    {
     "name": "stdout",
     "output_type": "stream",
     "text": [
      "CALYFOX RETAILS PRIVATE LIMITED\n",
      "KALIKA PROVISION STORE\n",
      "KUMAR PROVISION STORE\n",
      "TANEJA COSMETIC & GIFT SHOP\n",
      "AGGARWL KIRANA & GENERAL STORE\n",
      "APNA STORE\n",
      "HARIOM DEPARTMENTAL STORE\n",
      "RATAN - MEDICOSE PVT. LTD.\n",
      "Every Day Shopping Mart Pvt. Ltd.\n",
      "MED POINT PHARMACY & COSMATICS\n",
      "9 TO 9 MERCATO\n",
      "MITTAL GENERAL  STORE\n",
      "Soni Supermart\n",
      "MAHENDRA TRADERS\n",
      "SHOPPER  POINT\n",
      "MITTAL & SONS\n",
      "MAHAVIRA GENERAL STORE\n",
      "OM RETAIL MART\n",
      "MITTAL PROVISION STORE\n",
      "JAI BHAWANI KIRANA STORE\n",
      "SHRI SHYAM KIRANA STORE\n",
      "LUXMI SUPER GENERAL STORE\n",
      "BAJRANG SHOPPING CENTRE\n",
      "VIJAY MEDICOS\n",
      "LONG LIFE MEDICOSE\n",
      "GOYAL SUPERMART\n",
      "AGGARAWAL DEPARTMENTAL STORE\n",
      "SHIV SHAKTI GENERAL STORE\n",
      "MANGALA ARYA RETAIL AND ECOMMERCE\n"
     ]
    }
   ],
   "source": [
    "for row in excel.itertuples():\n",
    "    print(row[1])"
   ]
  },
  {
   "cell_type": "code",
   "execution_count": null,
   "metadata": {},
   "outputs": [],
   "source": []
  }
 ],
 "metadata": {
  "kernelspec": {
   "display_name": "Python 3",
   "language": "python",
   "name": "python3"
  },
  "language_info": {
   "codemirror_mode": {
    "name": "ipython",
    "version": 3
   },
   "file_extension": ".py",
   "mimetype": "text/x-python",
   "name": "python",
   "nbconvert_exporter": "python",
   "pygments_lexer": "ipython3",
   "version": "3.6.4"
  }
 },
 "nbformat": 4,
 "nbformat_minor": 2
}
